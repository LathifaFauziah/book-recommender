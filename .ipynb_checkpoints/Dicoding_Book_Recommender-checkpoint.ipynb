{
 "cells": [
  {
   "cell_type": "markdown",
   "metadata": {
    "id": "WpAvgnfDmxjd"
   },
   "source": [
    "# Acknowledgements\n",
    "---\n",
    "\n",
    "Dataset ini diambil dari [https://www.kaggle.com](https://www.kaggle.com/datasets/ruchi798/bookcrossing-dataset)"
   ]
  },
  {
   "cell_type": "markdown",
   "metadata": {
    "id": "H6HKUQBqnIzU"
   },
   "source": [
    "# Import Dataset from Kaggle\n",
    "---\n",
    "\n",
    "Import dataset terlebih dulu lalu di unzip"
   ]
  },
  {
   "cell_type": "code",
   "execution_count": 1,
   "metadata": {
    "colab": {
     "base_uri": "https://localhost:8080/"
    },
    "id": "VceCcNvxnIXO",
    "outputId": "50e6f8ac-8873-423a-928c-9d6c43947664"
   },
   "outputs": [],
   "source": [
    "# from google.colab import drive\n",
    "\n",
    "# drive.mount('/content/drive')"
   ]
  },
  {
   "cell_type": "code",
   "execution_count": 2,
   "metadata": {
    "id": "Quy5EYUDnRGQ"
   },
   "outputs": [],
   "source": [
    "# !mkdir ~/.kaggle\n",
    "# !cp /content/drive/MyDrive/kaggle.json ~/.kaggle\n",
    "# !chmod 600 ~/.kaggle/kaggle.json"
   ]
  },
  {
   "cell_type": "code",
   "execution_count": 3,
   "metadata": {
    "colab": {
     "base_uri": "https://localhost:8080/"
    },
    "id": "EVvxl6gcnRDP",
    "outputId": "2b6466e2-829e-40d5-bb94-cd063d391211"
   },
   "outputs": [],
   "source": [
    "# !kaggle datasets download -d ruchi798/bookcrossing-dataset"
   ]
  },
  {
   "cell_type": "code",
   "execution_count": 4,
   "metadata": {
    "colab": {
     "base_uri": "https://localhost:8080/"
    },
    "id": "MrE2qY6qnk_B",
    "outputId": "c28ada43-7efa-4e67-eff5-577705d8b44d"
   },
   "outputs": [],
   "source": [
    "# !unzip bookcrossing-dataset.zip"
   ]
  },
  {
   "cell_type": "markdown",
   "metadata": {
    "id": "r2ln4HoKnADq"
   },
   "source": [
    "# Import Library for Exploratory Data Analysis\n",
    "\n",
    "---\n",
    "\n",
    "Import library yang akan digunakan untuk data analisis, data visualisasi, data preprocessing dan modeling"
   ]
  },
  {
   "cell_type": "code",
   "execution_count": 5,
   "metadata": {
    "id": "PNgBI3YldM45"
   },
   "outputs": [],
   "source": [
    "# library for data loading and data analysis\n",
    "import pandas as pd\n",
    "import numpy as np\n",
    "\n",
    "# library for data visualization\n",
    "from matplotlib import pyplot as plt\n",
    "import seaborn as sns\n",
    "%matplotlib inline"
   ]
  },
  {
   "cell_type": "markdown",
   "metadata": {
    "id": "kcyoEb9-n3Fv"
   },
   "source": [
    "# Data Loading"
   ]
  },
  {
   "cell_type": "code",
   "execution_count": 6,
   "metadata": {
    "colab": {
     "base_uri": "https://localhost:8080/",
     "height": 687
    },
    "id": "TrKhIvvjn2nd",
    "outputId": "4e8a5532-bac0-43ff-cc88-41c2587252ab"
   },
   "outputs": [
    {
     "data": {
      "text/html": [
       "<div>\n",
       "<style scoped>\n",
       "    .dataframe tbody tr th:only-of-type {\n",
       "        vertical-align: middle;\n",
       "    }\n",
       "\n",
       "    .dataframe tbody tr th {\n",
       "        vertical-align: top;\n",
       "    }\n",
       "\n",
       "    .dataframe thead th {\n",
       "        text-align: right;\n",
       "    }\n",
       "</style>\n",
       "<table border=\"1\" class=\"dataframe\">\n",
       "  <thead>\n",
       "    <tr style=\"text-align: right;\">\n",
       "      <th></th>\n",
       "      <th>user_id</th>\n",
       "      <th>location</th>\n",
       "      <th>age</th>\n",
       "      <th>isbn</th>\n",
       "      <th>rating</th>\n",
       "      <th>book_title</th>\n",
       "      <th>book_author</th>\n",
       "      <th>year_of_publication</th>\n",
       "      <th>publisher</th>\n",
       "      <th>img_s</th>\n",
       "      <th>img_m</th>\n",
       "      <th>img_l</th>\n",
       "      <th>Summary</th>\n",
       "      <th>Language</th>\n",
       "      <th>Category</th>\n",
       "      <th>city</th>\n",
       "      <th>state</th>\n",
       "      <th>country</th>\n",
       "    </tr>\n",
       "  </thead>\n",
       "  <tbody>\n",
       "    <tr>\n",
       "      <th>0</th>\n",
       "      <td>2</td>\n",
       "      <td>stockton, california, usa</td>\n",
       "      <td>18.0000</td>\n",
       "      <td>0195153448</td>\n",
       "      <td>0</td>\n",
       "      <td>Classical Mythology</td>\n",
       "      <td>Mark P. O. Morford</td>\n",
       "      <td>2002.0</td>\n",
       "      <td>Oxford University Press</td>\n",
       "      <td>http://images.amazon.com/images/P/0195153448.0...</td>\n",
       "      <td>http://images.amazon.com/images/P/0195153448.0...</td>\n",
       "      <td>http://images.amazon.com/images/P/0195153448.0...</td>\n",
       "      <td>Provides an introduction to classical myths pl...</td>\n",
       "      <td>en</td>\n",
       "      <td>['Social Science']</td>\n",
       "      <td>stockton</td>\n",
       "      <td>california</td>\n",
       "      <td>usa</td>\n",
       "    </tr>\n",
       "    <tr>\n",
       "      <th>1</th>\n",
       "      <td>8</td>\n",
       "      <td>timmins, ontario, canada</td>\n",
       "      <td>34.7439</td>\n",
       "      <td>0002005018</td>\n",
       "      <td>5</td>\n",
       "      <td>Clara Callan</td>\n",
       "      <td>Richard Bruce Wright</td>\n",
       "      <td>2001.0</td>\n",
       "      <td>HarperFlamingo Canada</td>\n",
       "      <td>http://images.amazon.com/images/P/0002005018.0...</td>\n",
       "      <td>http://images.amazon.com/images/P/0002005018.0...</td>\n",
       "      <td>http://images.amazon.com/images/P/0002005018.0...</td>\n",
       "      <td>In a small town in Canada, Clara Callan reluct...</td>\n",
       "      <td>en</td>\n",
       "      <td>['Actresses']</td>\n",
       "      <td>timmins</td>\n",
       "      <td>ontario</td>\n",
       "      <td>canada</td>\n",
       "    </tr>\n",
       "    <tr>\n",
       "      <th>2</th>\n",
       "      <td>11400</td>\n",
       "      <td>ottawa, ontario, canada</td>\n",
       "      <td>49.0000</td>\n",
       "      <td>0002005018</td>\n",
       "      <td>0</td>\n",
       "      <td>Clara Callan</td>\n",
       "      <td>Richard Bruce Wright</td>\n",
       "      <td>2001.0</td>\n",
       "      <td>HarperFlamingo Canada</td>\n",
       "      <td>http://images.amazon.com/images/P/0002005018.0...</td>\n",
       "      <td>http://images.amazon.com/images/P/0002005018.0...</td>\n",
       "      <td>http://images.amazon.com/images/P/0002005018.0...</td>\n",
       "      <td>In a small town in Canada, Clara Callan reluct...</td>\n",
       "      <td>en</td>\n",
       "      <td>['Actresses']</td>\n",
       "      <td>ottawa</td>\n",
       "      <td>ontario</td>\n",
       "      <td>canada</td>\n",
       "    </tr>\n",
       "    <tr>\n",
       "      <th>3</th>\n",
       "      <td>11676</td>\n",
       "      <td>n/a, n/a, n/a</td>\n",
       "      <td>34.7439</td>\n",
       "      <td>0002005018</td>\n",
       "      <td>8</td>\n",
       "      <td>Clara Callan</td>\n",
       "      <td>Richard Bruce Wright</td>\n",
       "      <td>2001.0</td>\n",
       "      <td>HarperFlamingo Canada</td>\n",
       "      <td>http://images.amazon.com/images/P/0002005018.0...</td>\n",
       "      <td>http://images.amazon.com/images/P/0002005018.0...</td>\n",
       "      <td>http://images.amazon.com/images/P/0002005018.0...</td>\n",
       "      <td>In a small town in Canada, Clara Callan reluct...</td>\n",
       "      <td>en</td>\n",
       "      <td>['Actresses']</td>\n",
       "      <td>NaN</td>\n",
       "      <td>NaN</td>\n",
       "      <td>NaN</td>\n",
       "    </tr>\n",
       "    <tr>\n",
       "      <th>4</th>\n",
       "      <td>41385</td>\n",
       "      <td>sudbury, ontario, canada</td>\n",
       "      <td>34.7439</td>\n",
       "      <td>0002005018</td>\n",
       "      <td>0</td>\n",
       "      <td>Clara Callan</td>\n",
       "      <td>Richard Bruce Wright</td>\n",
       "      <td>2001.0</td>\n",
       "      <td>HarperFlamingo Canada</td>\n",
       "      <td>http://images.amazon.com/images/P/0002005018.0...</td>\n",
       "      <td>http://images.amazon.com/images/P/0002005018.0...</td>\n",
       "      <td>http://images.amazon.com/images/P/0002005018.0...</td>\n",
       "      <td>In a small town in Canada, Clara Callan reluct...</td>\n",
       "      <td>en</td>\n",
       "      <td>['Actresses']</td>\n",
       "      <td>sudbury</td>\n",
       "      <td>ontario</td>\n",
       "      <td>canada</td>\n",
       "    </tr>\n",
       "  </tbody>\n",
       "</table>\n",
       "</div>"
      ],
      "text/plain": [
       "   user_id                   location      age        isbn  rating  \\\n",
       "0        2  stockton, california, usa  18.0000  0195153448       0   \n",
       "1        8   timmins, ontario, canada  34.7439  0002005018       5   \n",
       "2    11400    ottawa, ontario, canada  49.0000  0002005018       0   \n",
       "3    11676              n/a, n/a, n/a  34.7439  0002005018       8   \n",
       "4    41385   sudbury, ontario, canada  34.7439  0002005018       0   \n",
       "\n",
       "            book_title           book_author  year_of_publication  \\\n",
       "0  Classical Mythology    Mark P. O. Morford               2002.0   \n",
       "1         Clara Callan  Richard Bruce Wright               2001.0   \n",
       "2         Clara Callan  Richard Bruce Wright               2001.0   \n",
       "3         Clara Callan  Richard Bruce Wright               2001.0   \n",
       "4         Clara Callan  Richard Bruce Wright               2001.0   \n",
       "\n",
       "                 publisher                                              img_s  \\\n",
       "0  Oxford University Press  http://images.amazon.com/images/P/0195153448.0...   \n",
       "1    HarperFlamingo Canada  http://images.amazon.com/images/P/0002005018.0...   \n",
       "2    HarperFlamingo Canada  http://images.amazon.com/images/P/0002005018.0...   \n",
       "3    HarperFlamingo Canada  http://images.amazon.com/images/P/0002005018.0...   \n",
       "4    HarperFlamingo Canada  http://images.amazon.com/images/P/0002005018.0...   \n",
       "\n",
       "                                               img_m  \\\n",
       "0  http://images.amazon.com/images/P/0195153448.0...   \n",
       "1  http://images.amazon.com/images/P/0002005018.0...   \n",
       "2  http://images.amazon.com/images/P/0002005018.0...   \n",
       "3  http://images.amazon.com/images/P/0002005018.0...   \n",
       "4  http://images.amazon.com/images/P/0002005018.0...   \n",
       "\n",
       "                                               img_l  \\\n",
       "0  http://images.amazon.com/images/P/0195153448.0...   \n",
       "1  http://images.amazon.com/images/P/0002005018.0...   \n",
       "2  http://images.amazon.com/images/P/0002005018.0...   \n",
       "3  http://images.amazon.com/images/P/0002005018.0...   \n",
       "4  http://images.amazon.com/images/P/0002005018.0...   \n",
       "\n",
       "                                             Summary Language  \\\n",
       "0  Provides an introduction to classical myths pl...       en   \n",
       "1  In a small town in Canada, Clara Callan reluct...       en   \n",
       "2  In a small town in Canada, Clara Callan reluct...       en   \n",
       "3  In a small town in Canada, Clara Callan reluct...       en   \n",
       "4  In a small town in Canada, Clara Callan reluct...       en   \n",
       "\n",
       "             Category      city       state country  \n",
       "0  ['Social Science']  stockton  california     usa  \n",
       "1       ['Actresses']   timmins     ontario  canada  \n",
       "2       ['Actresses']    ottawa     ontario  canada  \n",
       "3       ['Actresses']       NaN         NaN     NaN  \n",
       "4       ['Actresses']   sudbury     ontario  canada  "
      ]
     },
     "execution_count": 6,
     "metadata": {},
     "output_type": "execute_result"
    }
   ],
   "source": [
    "path = 'Books Data with Category Language and Summary/Preprocessed_data.csv'\n",
    "df = pd.read_csv(path, index_col=[0])\n",
    "df.head()"
   ]
  },
  {
   "cell_type": "code",
   "execution_count": 7,
   "metadata": {
    "colab": {
     "base_uri": "https://localhost:8080/"
    },
    "id": "21XS-ik8oIfz",
    "outputId": "3b82930e-4698-4706-f44b-1f26feb6f095"
   },
   "outputs": [
    {
     "name": "stdout",
     "output_type": "stream",
     "text": [
      "The data has 1031175 records and 18 columns.\n"
     ]
    }
   ],
   "source": [
    "# check the shape of dataframe\n",
    "print(f'The data has {df.shape[0]} records and {df.shape[1]} columns.')"
   ]
  },
  {
   "cell_type": "markdown",
   "metadata": {
    "id": "izbLW8xjotP4"
   },
   "source": [
    "# Exploratory Data Analysis\n",
    "---\n",
    "\n",
    "Dataset ini memiliki 1.031.175 baris data dan 18 kolom :\n",
    "* user_id : merupakan id dari user\n",
    "* location : merupakan lokasi user tinggal\n",
    "* age : merupakan umur dari user\n",
    "* isbn : merupakan kode pengidentifikasi buku\n",
    "* rating : merupakan rating yang user berikan untuk buku\n",
    "* book_title : merupakan judul dari buku\n",
    "* book_author : merupakan penulis dari buku\n",
    "* year_of_publication : merupakan tahun publikasi buku\n",
    "* publisher : merupakan penerbit buku\n",
    "* img_s/img_m/img_l : merupakan cover dari buku\n",
    "* summary : merupakan sinopsis dari buku\n",
    "* language : merupakan bahasa terjemahan buku\n",
    "* category : merupakan kategori buku\n",
    "* city : merupakan kota buku tersebut dibeli\n",
    "* state : merupakan provinsi buku tersebut dibeli\n",
    "* country : merupakan negara buku tersebut dibeli"
   ]
  },
  {
   "cell_type": "markdown",
   "metadata": {
    "id": "aCyERkT_rqpe"
   },
   "source": [
    "### Mengecek data apakaha memiliki missing value atau tidak"
   ]
  },
  {
   "cell_type": "code",
   "execution_count": 8,
   "metadata": {
    "colab": {
     "base_uri": "https://localhost:8080/"
    },
    "id": "lZIor1d5oom4",
    "outputId": "8ba501e1-c177-42be-ed45-3982ab5e38e8"
   },
   "outputs": [
    {
     "name": "stdout",
     "output_type": "stream",
     "text": [
      "<class 'pandas.core.frame.DataFrame'>\n",
      "Int64Index: 1031175 entries, 0 to 1031174\n",
      "Data columns (total 18 columns):\n",
      " #   Column               Non-Null Count    Dtype  \n",
      "---  ------               --------------    -----  \n",
      " 0   user_id              1031175 non-null  int64  \n",
      " 1   location             1031175 non-null  object \n",
      " 2   age                  1031175 non-null  float64\n",
      " 3   isbn                 1031175 non-null  object \n",
      " 4   rating               1031175 non-null  int64  \n",
      " 5   book_title           1031175 non-null  object \n",
      " 6   book_author          1031175 non-null  object \n",
      " 7   year_of_publication  1031175 non-null  float64\n",
      " 8   publisher            1031175 non-null  object \n",
      " 9   img_s                1031175 non-null  object \n",
      " 10  img_m                1031175 non-null  object \n",
      " 11  img_l                1031175 non-null  object \n",
      " 12  Summary              1031175 non-null  object \n",
      " 13  Language             1031175 non-null  object \n",
      " 14  Category             1031175 non-null  object \n",
      " 15  city                 1017072 non-null  object \n",
      " 16  state                1008377 non-null  object \n",
      " 17  country              995801 non-null   object \n",
      "dtypes: float64(2), int64(2), object(14)\n",
      "memory usage: 149.5+ MB\n"
     ]
    }
   ],
   "source": [
    "df.info()"
   ]
  },
  {
   "cell_type": "markdown",
   "metadata": {
    "id": "5DI1aXP9rv00"
   },
   "source": [
    "Dapat kita lihat bahwa beberapa kolom di dataset memiliki jumlah yang berbeda. Hal ini mengindikasikan bahwa terdapat missing value pada data"
   ]
  },
  {
   "cell_type": "code",
   "execution_count": 9,
   "metadata": {
    "colab": {
     "base_uri": "https://localhost:8080/"
    },
    "id": "T-gBV29IrmHY",
    "outputId": "b31fecb0-275f-4029-a114-48e8aafc085f"
   },
   "outputs": [
    {
     "name": "stdout",
     "output_type": "stream",
     "text": [
      "Total missing value in dataframe: 72275 records\n"
     ]
    }
   ],
   "source": [
    "print('Total missing value in dataframe:', df.isnull().sum().sum(), 'records')"
   ]
  },
  {
   "cell_type": "code",
   "execution_count": 10,
   "metadata": {
    "colab": {
     "base_uri": "https://localhost:8080/"
    },
    "id": "0vMide-Mz1Lf",
    "outputId": "29d6d5c7-c05e-4537-9cd7-4bb34ce6ec25"
   },
   "outputs": [
    {
     "name": "stdout",
     "output_type": "stream",
     "text": [
      "Column with missing value: ['city', 'state', 'country']\n"
     ]
    }
   ],
   "source": [
    "col_with_missing = [col for col in df.columns if df[col].isnull().any()]\n",
    "print('Column with missing value:', col_with_missing)"
   ]
  },
  {
   "cell_type": "markdown",
   "metadata": {
    "id": "tBz-HZ8qz-T8"
   },
   "source": [
    "Seperti yang kita lihat bahwa kolom city, state, country memiliki missing value. Ada banyak cara dalam menangani missing value, namun pada kasus kali ini kita akan menghapus kolom karena tidak terlalu berpengaruh pada rekomendasi buku"
   ]
  },
  {
   "cell_type": "code",
   "execution_count": 11,
   "metadata": {
    "colab": {
     "base_uri": "https://localhost:8080/",
     "height": 649
    },
    "id": "DecSTeiRz4Ot",
    "outputId": "f64cd01f-084c-4809-c8d6-15c3ead2d185"
   },
   "outputs": [
    {
     "data": {
      "text/html": [
       "<div>\n",
       "<style scoped>\n",
       "    .dataframe tbody tr th:only-of-type {\n",
       "        vertical-align: middle;\n",
       "    }\n",
       "\n",
       "    .dataframe tbody tr th {\n",
       "        vertical-align: top;\n",
       "    }\n",
       "\n",
       "    .dataframe thead th {\n",
       "        text-align: right;\n",
       "    }\n",
       "</style>\n",
       "<table border=\"1\" class=\"dataframe\">\n",
       "  <thead>\n",
       "    <tr style=\"text-align: right;\">\n",
       "      <th></th>\n",
       "      <th>user_id</th>\n",
       "      <th>location</th>\n",
       "      <th>age</th>\n",
       "      <th>isbn</th>\n",
       "      <th>rating</th>\n",
       "      <th>book_title</th>\n",
       "      <th>book_author</th>\n",
       "      <th>year_of_publication</th>\n",
       "      <th>publisher</th>\n",
       "      <th>img_s</th>\n",
       "      <th>img_m</th>\n",
       "      <th>img_l</th>\n",
       "      <th>Summary</th>\n",
       "      <th>Language</th>\n",
       "      <th>Category</th>\n",
       "    </tr>\n",
       "  </thead>\n",
       "  <tbody>\n",
       "    <tr>\n",
       "      <th>0</th>\n",
       "      <td>2</td>\n",
       "      <td>stockton, california, usa</td>\n",
       "      <td>18.0000</td>\n",
       "      <td>0195153448</td>\n",
       "      <td>0</td>\n",
       "      <td>Classical Mythology</td>\n",
       "      <td>Mark P. O. Morford</td>\n",
       "      <td>2002.0</td>\n",
       "      <td>Oxford University Press</td>\n",
       "      <td>http://images.amazon.com/images/P/0195153448.0...</td>\n",
       "      <td>http://images.amazon.com/images/P/0195153448.0...</td>\n",
       "      <td>http://images.amazon.com/images/P/0195153448.0...</td>\n",
       "      <td>Provides an introduction to classical myths pl...</td>\n",
       "      <td>en</td>\n",
       "      <td>['Social Science']</td>\n",
       "    </tr>\n",
       "    <tr>\n",
       "      <th>1</th>\n",
       "      <td>8</td>\n",
       "      <td>timmins, ontario, canada</td>\n",
       "      <td>34.7439</td>\n",
       "      <td>0002005018</td>\n",
       "      <td>5</td>\n",
       "      <td>Clara Callan</td>\n",
       "      <td>Richard Bruce Wright</td>\n",
       "      <td>2001.0</td>\n",
       "      <td>HarperFlamingo Canada</td>\n",
       "      <td>http://images.amazon.com/images/P/0002005018.0...</td>\n",
       "      <td>http://images.amazon.com/images/P/0002005018.0...</td>\n",
       "      <td>http://images.amazon.com/images/P/0002005018.0...</td>\n",
       "      <td>In a small town in Canada, Clara Callan reluct...</td>\n",
       "      <td>en</td>\n",
       "      <td>['Actresses']</td>\n",
       "    </tr>\n",
       "    <tr>\n",
       "      <th>2</th>\n",
       "      <td>11400</td>\n",
       "      <td>ottawa, ontario, canada</td>\n",
       "      <td>49.0000</td>\n",
       "      <td>0002005018</td>\n",
       "      <td>0</td>\n",
       "      <td>Clara Callan</td>\n",
       "      <td>Richard Bruce Wright</td>\n",
       "      <td>2001.0</td>\n",
       "      <td>HarperFlamingo Canada</td>\n",
       "      <td>http://images.amazon.com/images/P/0002005018.0...</td>\n",
       "      <td>http://images.amazon.com/images/P/0002005018.0...</td>\n",
       "      <td>http://images.amazon.com/images/P/0002005018.0...</td>\n",
       "      <td>In a small town in Canada, Clara Callan reluct...</td>\n",
       "      <td>en</td>\n",
       "      <td>['Actresses']</td>\n",
       "    </tr>\n",
       "    <tr>\n",
       "      <th>3</th>\n",
       "      <td>11676</td>\n",
       "      <td>n/a, n/a, n/a</td>\n",
       "      <td>34.7439</td>\n",
       "      <td>0002005018</td>\n",
       "      <td>8</td>\n",
       "      <td>Clara Callan</td>\n",
       "      <td>Richard Bruce Wright</td>\n",
       "      <td>2001.0</td>\n",
       "      <td>HarperFlamingo Canada</td>\n",
       "      <td>http://images.amazon.com/images/P/0002005018.0...</td>\n",
       "      <td>http://images.amazon.com/images/P/0002005018.0...</td>\n",
       "      <td>http://images.amazon.com/images/P/0002005018.0...</td>\n",
       "      <td>In a small town in Canada, Clara Callan reluct...</td>\n",
       "      <td>en</td>\n",
       "      <td>['Actresses']</td>\n",
       "    </tr>\n",
       "    <tr>\n",
       "      <th>4</th>\n",
       "      <td>41385</td>\n",
       "      <td>sudbury, ontario, canada</td>\n",
       "      <td>34.7439</td>\n",
       "      <td>0002005018</td>\n",
       "      <td>0</td>\n",
       "      <td>Clara Callan</td>\n",
       "      <td>Richard Bruce Wright</td>\n",
       "      <td>2001.0</td>\n",
       "      <td>HarperFlamingo Canada</td>\n",
       "      <td>http://images.amazon.com/images/P/0002005018.0...</td>\n",
       "      <td>http://images.amazon.com/images/P/0002005018.0...</td>\n",
       "      <td>http://images.amazon.com/images/P/0002005018.0...</td>\n",
       "      <td>In a small town in Canada, Clara Callan reluct...</td>\n",
       "      <td>en</td>\n",
       "      <td>['Actresses']</td>\n",
       "    </tr>\n",
       "  </tbody>\n",
       "</table>\n",
       "</div>"
      ],
      "text/plain": [
       "   user_id                   location      age        isbn  rating  \\\n",
       "0        2  stockton, california, usa  18.0000  0195153448       0   \n",
       "1        8   timmins, ontario, canada  34.7439  0002005018       5   \n",
       "2    11400    ottawa, ontario, canada  49.0000  0002005018       0   \n",
       "3    11676              n/a, n/a, n/a  34.7439  0002005018       8   \n",
       "4    41385   sudbury, ontario, canada  34.7439  0002005018       0   \n",
       "\n",
       "            book_title           book_author  year_of_publication  \\\n",
       "0  Classical Mythology    Mark P. O. Morford               2002.0   \n",
       "1         Clara Callan  Richard Bruce Wright               2001.0   \n",
       "2         Clara Callan  Richard Bruce Wright               2001.0   \n",
       "3         Clara Callan  Richard Bruce Wright               2001.0   \n",
       "4         Clara Callan  Richard Bruce Wright               2001.0   \n",
       "\n",
       "                 publisher                                              img_s  \\\n",
       "0  Oxford University Press  http://images.amazon.com/images/P/0195153448.0...   \n",
       "1    HarperFlamingo Canada  http://images.amazon.com/images/P/0002005018.0...   \n",
       "2    HarperFlamingo Canada  http://images.amazon.com/images/P/0002005018.0...   \n",
       "3    HarperFlamingo Canada  http://images.amazon.com/images/P/0002005018.0...   \n",
       "4    HarperFlamingo Canada  http://images.amazon.com/images/P/0002005018.0...   \n",
       "\n",
       "                                               img_m  \\\n",
       "0  http://images.amazon.com/images/P/0195153448.0...   \n",
       "1  http://images.amazon.com/images/P/0002005018.0...   \n",
       "2  http://images.amazon.com/images/P/0002005018.0...   \n",
       "3  http://images.amazon.com/images/P/0002005018.0...   \n",
       "4  http://images.amazon.com/images/P/0002005018.0...   \n",
       "\n",
       "                                               img_l  \\\n",
       "0  http://images.amazon.com/images/P/0195153448.0...   \n",
       "1  http://images.amazon.com/images/P/0002005018.0...   \n",
       "2  http://images.amazon.com/images/P/0002005018.0...   \n",
       "3  http://images.amazon.com/images/P/0002005018.0...   \n",
       "4  http://images.amazon.com/images/P/0002005018.0...   \n",
       "\n",
       "                                             Summary Language  \\\n",
       "0  Provides an introduction to classical myths pl...       en   \n",
       "1  In a small town in Canada, Clara Callan reluct...       en   \n",
       "2  In a small town in Canada, Clara Callan reluct...       en   \n",
       "3  In a small town in Canada, Clara Callan reluct...       en   \n",
       "4  In a small town in Canada, Clara Callan reluct...       en   \n",
       "\n",
       "             Category  \n",
       "0  ['Social Science']  \n",
       "1       ['Actresses']  \n",
       "2       ['Actresses']  \n",
       "3       ['Actresses']  \n",
       "4       ['Actresses']  "
      ]
     },
     "execution_count": 11,
     "metadata": {},
     "output_type": "execute_result"
    }
   ],
   "source": [
    "df_no_missing = df.drop(col_with_missing, axis=1)\n",
    "df_no_missing.head()"
   ]
  },
  {
   "cell_type": "code",
   "execution_count": 12,
   "metadata": {
    "colab": {
     "base_uri": "https://localhost:8080/"
    },
    "id": "FRHrCKP20TS-",
    "outputId": "19154a0e-0a9f-4e82-b098-0c24b4492da1"
   },
   "outputs": [
    {
     "name": "stdout",
     "output_type": "stream",
     "text": [
      "<class 'pandas.core.frame.DataFrame'>\n",
      "Int64Index: 1031175 entries, 0 to 1031174\n",
      "Data columns (total 15 columns):\n",
      " #   Column               Non-Null Count    Dtype  \n",
      "---  ------               --------------    -----  \n",
      " 0   user_id              1031175 non-null  int64  \n",
      " 1   location             1031175 non-null  object \n",
      " 2   age                  1031175 non-null  float64\n",
      " 3   isbn                 1031175 non-null  object \n",
      " 4   rating               1031175 non-null  int64  \n",
      " 5   book_title           1031175 non-null  object \n",
      " 6   book_author          1031175 non-null  object \n",
      " 7   year_of_publication  1031175 non-null  float64\n",
      " 8   publisher            1031175 non-null  object \n",
      " 9   img_s                1031175 non-null  object \n",
      " 10  img_m                1031175 non-null  object \n",
      " 11  img_l                1031175 non-null  object \n",
      " 12  Summary              1031175 non-null  object \n",
      " 13  Language             1031175 non-null  object \n",
      " 14  Category             1031175 non-null  object \n",
      "dtypes: float64(2), int64(2), object(11)\n",
      "memory usage: 125.9+ MB\n"
     ]
    }
   ],
   "source": [
    "df_no_missing.info()"
   ]
  },
  {
   "cell_type": "code",
   "execution_count": 13,
   "metadata": {
    "colab": {
     "base_uri": "https://localhost:8080/"
    },
    "id": "H8Cac-hX0L51",
    "outputId": "29f63319-0825-4fa9-961b-b062db36185f"
   },
   "outputs": [
    {
     "name": "stdout",
     "output_type": "stream",
     "text": [
      "Total missing value in dataframe: 0 records\n"
     ]
    }
   ],
   "source": [
    "print('Total missing value in dataframe:', df_no_missing.isnull().sum().sum(), 'records')"
   ]
  },
  {
   "cell_type": "markdown",
   "metadata": {
    "id": "0v-WxGI8tOwf"
   },
   "source": [
    "### Explore Statistic Information\n",
    "\n",
    "Secara umum, sebuah data pasti memiliki informasi statistik pada masing-masing kolom, antara lain:\n",
    "\n",
    "\n",
    "*   Count : Jumlah data pada setiap kolom\n",
    "*   Mean : Nilai rata-rata pada setiam kolom\n",
    "*   Std : Standar deviasi pada setiap kolom\n",
    "*   Min : Nilai minimum pada setiap kolom\n",
    "*   25% : Kuartil pertama\n",
    "*   50% : Kuartil kedua atau biasa juga disebut median (nilai tengah)\n",
    "*   75% : Kuartil ketiga\n",
    "*   Max : Nilai maksimum pada setiap kolom\n",
    "\n"
   ]
  },
  {
   "cell_type": "code",
   "execution_count": 14,
   "metadata": {
    "colab": {
     "base_uri": "https://localhost:8080/",
     "height": 300
    },
    "id": "8ZMOAm2rs-rT",
    "outputId": "557a62b4-9c34-492d-bcd2-455b7799a30a"
   },
   "outputs": [
    {
     "data": {
      "text/html": [
       "<div>\n",
       "<style scoped>\n",
       "    .dataframe tbody tr th:only-of-type {\n",
       "        vertical-align: middle;\n",
       "    }\n",
       "\n",
       "    .dataframe tbody tr th {\n",
       "        vertical-align: top;\n",
       "    }\n",
       "\n",
       "    .dataframe thead th {\n",
       "        text-align: right;\n",
       "    }\n",
       "</style>\n",
       "<table border=\"1\" class=\"dataframe\">\n",
       "  <thead>\n",
       "    <tr style=\"text-align: right;\">\n",
       "      <th></th>\n",
       "      <th>user_id</th>\n",
       "      <th>age</th>\n",
       "      <th>rating</th>\n",
       "      <th>year_of_publication</th>\n",
       "    </tr>\n",
       "  </thead>\n",
       "  <tbody>\n",
       "    <tr>\n",
       "      <th>count</th>\n",
       "      <td>1.031175e+06</td>\n",
       "      <td>1.031175e+06</td>\n",
       "      <td>1.031175e+06</td>\n",
       "      <td>1.031175e+06</td>\n",
       "    </tr>\n",
       "    <tr>\n",
       "      <th>mean</th>\n",
       "      <td>1.405944e+05</td>\n",
       "      <td>3.642902e+01</td>\n",
       "      <td>2.839022e+00</td>\n",
       "      <td>1.995283e+03</td>\n",
       "    </tr>\n",
       "    <tr>\n",
       "      <th>std</th>\n",
       "      <td>8.052444e+04</td>\n",
       "      <td>1.035354e+01</td>\n",
       "      <td>3.854149e+00</td>\n",
       "      <td>7.309340e+00</td>\n",
       "    </tr>\n",
       "    <tr>\n",
       "      <th>min</th>\n",
       "      <td>2.000000e+00</td>\n",
       "      <td>5.000000e+00</td>\n",
       "      <td>0.000000e+00</td>\n",
       "      <td>1.376000e+03</td>\n",
       "    </tr>\n",
       "    <tr>\n",
       "      <th>25%</th>\n",
       "      <td>7.041500e+04</td>\n",
       "      <td>3.100000e+01</td>\n",
       "      <td>0.000000e+00</td>\n",
       "      <td>1.992000e+03</td>\n",
       "    </tr>\n",
       "    <tr>\n",
       "      <th>50%</th>\n",
       "      <td>1.412100e+05</td>\n",
       "      <td>3.474390e+01</td>\n",
       "      <td>0.000000e+00</td>\n",
       "      <td>1.997000e+03</td>\n",
       "    </tr>\n",
       "    <tr>\n",
       "      <th>75%</th>\n",
       "      <td>2.114260e+05</td>\n",
       "      <td>4.100000e+01</td>\n",
       "      <td>7.000000e+00</td>\n",
       "      <td>2.001000e+03</td>\n",
       "    </tr>\n",
       "    <tr>\n",
       "      <th>max</th>\n",
       "      <td>2.788540e+05</td>\n",
       "      <td>9.900000e+01</td>\n",
       "      <td>1.000000e+01</td>\n",
       "      <td>2.008000e+03</td>\n",
       "    </tr>\n",
       "  </tbody>\n",
       "</table>\n",
       "</div>"
      ],
      "text/plain": [
       "            user_id           age        rating  year_of_publication\n",
       "count  1.031175e+06  1.031175e+06  1.031175e+06         1.031175e+06\n",
       "mean   1.405944e+05  3.642902e+01  2.839022e+00         1.995283e+03\n",
       "std    8.052444e+04  1.035354e+01  3.854149e+00         7.309340e+00\n",
       "min    2.000000e+00  5.000000e+00  0.000000e+00         1.376000e+03\n",
       "25%    7.041500e+04  3.100000e+01  0.000000e+00         1.992000e+03\n",
       "50%    1.412100e+05  3.474390e+01  0.000000e+00         1.997000e+03\n",
       "75%    2.114260e+05  4.100000e+01  7.000000e+00         2.001000e+03\n",
       "max    2.788540e+05  9.900000e+01  1.000000e+01         2.008000e+03"
      ]
     },
     "execution_count": 14,
     "metadata": {},
     "output_type": "execute_result"
    }
   ],
   "source": [
    "df_no_missing.describe()"
   ]
  },
  {
   "cell_type": "markdown",
   "metadata": {
    "id": "OJ6911Zu0nJa"
   },
   "source": [
    "# Data Preparation\n",
    "---\n",
    "\n",
    "Kita akan menghapus banyak kolom pada data kali ini karena banyak kolom pada data tidak memberikan informasi yang relevan terhadap rekomendasi buku seperti user_id, age, rating, dsb."
   ]
  },
  {
   "cell_type": "code",
   "execution_count": 15,
   "metadata": {
    "colab": {
     "base_uri": "https://localhost:8080/",
     "height": 206
    },
    "id": "QI4wcsrDtRgX",
    "outputId": "604bd559-04bf-4175-f790-233e8790ce29"
   },
   "outputs": [
    {
     "data": {
      "text/html": [
       "<div>\n",
       "<style scoped>\n",
       "    .dataframe tbody tr th:only-of-type {\n",
       "        vertical-align: middle;\n",
       "    }\n",
       "\n",
       "    .dataframe tbody tr th {\n",
       "        vertical-align: top;\n",
       "    }\n",
       "\n",
       "    .dataframe thead th {\n",
       "        text-align: right;\n",
       "    }\n",
       "</style>\n",
       "<table border=\"1\" class=\"dataframe\">\n",
       "  <thead>\n",
       "    <tr style=\"text-align: right;\">\n",
       "      <th></th>\n",
       "      <th>book_title</th>\n",
       "      <th>book_author</th>\n",
       "      <th>publisher</th>\n",
       "      <th>Category</th>\n",
       "    </tr>\n",
       "  </thead>\n",
       "  <tbody>\n",
       "    <tr>\n",
       "      <th>0</th>\n",
       "      <td>Classical Mythology</td>\n",
       "      <td>Mark P. O. Morford</td>\n",
       "      <td>Oxford University Press</td>\n",
       "      <td>['Social Science']</td>\n",
       "    </tr>\n",
       "    <tr>\n",
       "      <th>1</th>\n",
       "      <td>Clara Callan</td>\n",
       "      <td>Richard Bruce Wright</td>\n",
       "      <td>HarperFlamingo Canada</td>\n",
       "      <td>['Actresses']</td>\n",
       "    </tr>\n",
       "    <tr>\n",
       "      <th>2</th>\n",
       "      <td>Clara Callan</td>\n",
       "      <td>Richard Bruce Wright</td>\n",
       "      <td>HarperFlamingo Canada</td>\n",
       "      <td>['Actresses']</td>\n",
       "    </tr>\n",
       "    <tr>\n",
       "      <th>3</th>\n",
       "      <td>Clara Callan</td>\n",
       "      <td>Richard Bruce Wright</td>\n",
       "      <td>HarperFlamingo Canada</td>\n",
       "      <td>['Actresses']</td>\n",
       "    </tr>\n",
       "    <tr>\n",
       "      <th>4</th>\n",
       "      <td>Clara Callan</td>\n",
       "      <td>Richard Bruce Wright</td>\n",
       "      <td>HarperFlamingo Canada</td>\n",
       "      <td>['Actresses']</td>\n",
       "    </tr>\n",
       "  </tbody>\n",
       "</table>\n",
       "</div>"
      ],
      "text/plain": [
       "            book_title           book_author                publisher  \\\n",
       "0  Classical Mythology    Mark P. O. Morford  Oxford University Press   \n",
       "1         Clara Callan  Richard Bruce Wright    HarperFlamingo Canada   \n",
       "2         Clara Callan  Richard Bruce Wright    HarperFlamingo Canada   \n",
       "3         Clara Callan  Richard Bruce Wright    HarperFlamingo Canada   \n",
       "4         Clara Callan  Richard Bruce Wright    HarperFlamingo Canada   \n",
       "\n",
       "             Category  \n",
       "0  ['Social Science']  \n",
       "1       ['Actresses']  \n",
       "2       ['Actresses']  \n",
       "3       ['Actresses']  \n",
       "4       ['Actresses']  "
      ]
     },
     "execution_count": 15,
     "metadata": {},
     "output_type": "execute_result"
    }
   ],
   "source": [
    "col_to_drop = ['user_id', 'location', 'age', 'isbn', 'rating', 'year_of_publication', 'img_s', 'img_m', 'img_l', 'Summary', 'Language']\n",
    "df_dropped = df_no_missing.drop(col_to_drop, axis=1)\n",
    "df_dropped.head()"
   ]
  },
  {
   "cell_type": "code",
   "execution_count": 16,
   "metadata": {
    "colab": {
     "base_uri": "https://localhost:8080/"
    },
    "id": "iRD7qz342IrC",
    "outputId": "25c7484c-4f23-4e66-efb1-060bb04f6967"
   },
   "outputs": [
    {
     "name": "stdout",
     "output_type": "stream",
     "text": [
      "The data has 1031175 records and 4 columns.\n"
     ]
    }
   ],
   "source": [
    "# check the shape of dataframe\n",
    "print(f'The data has {df_dropped.shape[0]} records and {df_dropped.shape[1]} columns.')"
   ]
  },
  {
   "cell_type": "code",
   "execution_count": 17,
   "metadata": {
    "colab": {
     "base_uri": "https://localhost:8080/",
     "height": 206
    },
    "id": "UYIZVT2Q13ML",
    "outputId": "5010a9a2-729f-4c91-e9da-dea5cf38ccc7"
   },
   "outputs": [
    {
     "data": {
      "text/html": [
       "<div>\n",
       "<style scoped>\n",
       "    .dataframe tbody tr th:only-of-type {\n",
       "        vertical-align: middle;\n",
       "    }\n",
       "\n",
       "    .dataframe tbody tr th {\n",
       "        vertical-align: top;\n",
       "    }\n",
       "\n",
       "    .dataframe thead th {\n",
       "        text-align: right;\n",
       "    }\n",
       "</style>\n",
       "<table border=\"1\" class=\"dataframe\">\n",
       "  <thead>\n",
       "    <tr style=\"text-align: right;\">\n",
       "      <th></th>\n",
       "      <th>book_title</th>\n",
       "      <th>book_author</th>\n",
       "      <th>publisher</th>\n",
       "      <th>Category</th>\n",
       "    </tr>\n",
       "  </thead>\n",
       "  <tbody>\n",
       "    <tr>\n",
       "      <th>0</th>\n",
       "      <td>Classical Mythology</td>\n",
       "      <td>Mark P. O. Morford</td>\n",
       "      <td>Oxford University Press</td>\n",
       "      <td>['Social Science']</td>\n",
       "    </tr>\n",
       "    <tr>\n",
       "      <th>1</th>\n",
       "      <td>Clara Callan</td>\n",
       "      <td>Richard Bruce Wright</td>\n",
       "      <td>HarperFlamingo Canada</td>\n",
       "      <td>['Actresses']</td>\n",
       "    </tr>\n",
       "    <tr>\n",
       "      <th>15</th>\n",
       "      <td>Decision in Normandy</td>\n",
       "      <td>Carlo D'Este</td>\n",
       "      <td>HarperPerennial</td>\n",
       "      <td>['1940-1949']</td>\n",
       "    </tr>\n",
       "    <tr>\n",
       "      <th>18</th>\n",
       "      <td>Flu: The Story of the Great Influenza Pandemic...</td>\n",
       "      <td>Gina Bari Kolata</td>\n",
       "      <td>Farrar Straus Giroux</td>\n",
       "      <td>['Medical']</td>\n",
       "    </tr>\n",
       "    <tr>\n",
       "      <th>29</th>\n",
       "      <td>The Mummies of Urumchi</td>\n",
       "      <td>E. J. W. Barber</td>\n",
       "      <td>W. W. Norton &amp; Company</td>\n",
       "      <td>['Design']</td>\n",
       "    </tr>\n",
       "  </tbody>\n",
       "</table>\n",
       "</div>"
      ],
      "text/plain": [
       "                                           book_title           book_author  \\\n",
       "0                                 Classical Mythology    Mark P. O. Morford   \n",
       "1                                        Clara Callan  Richard Bruce Wright   \n",
       "15                               Decision in Normandy          Carlo D'Este   \n",
       "18  Flu: The Story of the Great Influenza Pandemic...      Gina Bari Kolata   \n",
       "29                             The Mummies of Urumchi       E. J. W. Barber   \n",
       "\n",
       "                  publisher            Category  \n",
       "0   Oxford University Press  ['Social Science']  \n",
       "1     HarperFlamingo Canada       ['Actresses']  \n",
       "15          HarperPerennial       ['1940-1949']  \n",
       "18     Farrar Straus Giroux         ['Medical']  \n",
       "29   W. W. Norton & Company          ['Design']  "
      ]
     },
     "execution_count": 17,
     "metadata": {},
     "output_type": "execute_result"
    }
   ],
   "source": [
    "# dropping duplicate record\n",
    "df_no_dup = df_dropped.drop_duplicates(['book_title'])\n",
    "df_no_dup.head()"
   ]
  },
  {
   "cell_type": "code",
   "execution_count": 18,
   "metadata": {
    "colab": {
     "base_uri": "https://localhost:8080/"
    },
    "id": "MEzELp2N2RIL",
    "outputId": "4848ed11-11e5-416b-d534-14a71fc2fad5"
   },
   "outputs": [
    {
     "name": "stdout",
     "output_type": "stream",
     "text": [
      "The data has 241090 records and 4 columns.\n"
     ]
    }
   ],
   "source": [
    "# check the shape of dataframe\n",
    "print(f'The data has {df_no_dup.shape[0]} records and {df_no_dup.shape[1]} columns.')"
   ]
  },
  {
   "cell_type": "code",
   "execution_count": 19,
   "metadata": {
    "colab": {
     "base_uri": "https://localhost:8080/",
     "height": 293
    },
    "id": "QwdMWyEd1hH5",
    "outputId": "cb141575-f334-4058-815a-56c4e35d738b"
   },
   "outputs": [
    {
     "name": "stderr",
     "output_type": "stream",
     "text": [
      "C:\\Users\\micha\\AppData\\Local\\Temp\\ipykernel_23088\\675658148.py:1: SettingWithCopyWarning: \n",
      "A value is trying to be set on a copy of a slice from a DataFrame\n",
      "\n",
      "See the caveats in the documentation: https://pandas.pydata.org/pandas-docs/stable/user_guide/indexing.html#returning-a-view-versus-a-copy\n",
      "  df_no_dup.rename(columns={'Category': 'category'}, inplace=True)\n"
     ]
    },
    {
     "data": {
      "text/html": [
       "<div>\n",
       "<style scoped>\n",
       "    .dataframe tbody tr th:only-of-type {\n",
       "        vertical-align: middle;\n",
       "    }\n",
       "\n",
       "    .dataframe tbody tr th {\n",
       "        vertical-align: top;\n",
       "    }\n",
       "\n",
       "    .dataframe thead th {\n",
       "        text-align: right;\n",
       "    }\n",
       "</style>\n",
       "<table border=\"1\" class=\"dataframe\">\n",
       "  <thead>\n",
       "    <tr style=\"text-align: right;\">\n",
       "      <th></th>\n",
       "      <th>book_title</th>\n",
       "      <th>book_author</th>\n",
       "      <th>publisher</th>\n",
       "      <th>category</th>\n",
       "    </tr>\n",
       "  </thead>\n",
       "  <tbody>\n",
       "    <tr>\n",
       "      <th>0</th>\n",
       "      <td>Classical Mythology</td>\n",
       "      <td>Mark P. O. Morford</td>\n",
       "      <td>Oxford University Press</td>\n",
       "      <td>['Social Science']</td>\n",
       "    </tr>\n",
       "    <tr>\n",
       "      <th>1</th>\n",
       "      <td>Clara Callan</td>\n",
       "      <td>Richard Bruce Wright</td>\n",
       "      <td>HarperFlamingo Canada</td>\n",
       "      <td>['Actresses']</td>\n",
       "    </tr>\n",
       "    <tr>\n",
       "      <th>15</th>\n",
       "      <td>Decision in Normandy</td>\n",
       "      <td>Carlo D'Este</td>\n",
       "      <td>HarperPerennial</td>\n",
       "      <td>['1940-1949']</td>\n",
       "    </tr>\n",
       "    <tr>\n",
       "      <th>18</th>\n",
       "      <td>Flu: The Story of the Great Influenza Pandemic...</td>\n",
       "      <td>Gina Bari Kolata</td>\n",
       "      <td>Farrar Straus Giroux</td>\n",
       "      <td>['Medical']</td>\n",
       "    </tr>\n",
       "    <tr>\n",
       "      <th>29</th>\n",
       "      <td>The Mummies of Urumchi</td>\n",
       "      <td>E. J. W. Barber</td>\n",
       "      <td>W. W. Norton &amp; Company</td>\n",
       "      <td>['Design']</td>\n",
       "    </tr>\n",
       "  </tbody>\n",
       "</table>\n",
       "</div>"
      ],
      "text/plain": [
       "                                           book_title           book_author  \\\n",
       "0                                 Classical Mythology    Mark P. O. Morford   \n",
       "1                                        Clara Callan  Richard Bruce Wright   \n",
       "15                               Decision in Normandy          Carlo D'Este   \n",
       "18  Flu: The Story of the Great Influenza Pandemic...      Gina Bari Kolata   \n",
       "29                             The Mummies of Urumchi       E. J. W. Barber   \n",
       "\n",
       "                  publisher            category  \n",
       "0   Oxford University Press  ['Social Science']  \n",
       "1     HarperFlamingo Canada       ['Actresses']  \n",
       "15          HarperPerennial       ['1940-1949']  \n",
       "18     Farrar Straus Giroux         ['Medical']  \n",
       "29   W. W. Norton & Company          ['Design']  "
      ]
     },
     "execution_count": 19,
     "metadata": {},
     "output_type": "execute_result"
    }
   ],
   "source": [
    "df_no_dup.rename(columns={'Category': 'category'}, inplace=True)\n",
    "df_no_dup.head()"
   ]
  },
  {
   "cell_type": "markdown",
   "metadata": {
    "id": "zSLRI7xH3nU4"
   },
   "source": [
    "### Data Preprocessing\n",
    "Karena data pada kolom category terbungkus dalam tanda kurung siku, maka data harus dibersihkan agar dapat diterima baik oleh model"
   ]
  },
  {
   "cell_type": "code",
   "execution_count": 20,
   "metadata": {
    "id": "ohdRelWO54UZ"
   },
   "outputs": [],
   "source": [
    "def clean_category(text):\n",
    "  text = re.sub(r'[\\[\\]]', '', text)\n",
    "  text = text.replace(\"'\", '')\n",
    "  return text"
   ]
  },
  {
   "cell_type": "code",
   "execution_count": 21,
   "metadata": {
    "colab": {
     "base_uri": "https://localhost:8080/",
     "height": 310
    },
    "id": "65_X0Mxr_wCh",
    "outputId": "f9d329cb-a6bd-4829-8138-825727f466f2"
   },
   "outputs": [
    {
     "name": "stderr",
     "output_type": "stream",
     "text": [
      "C:\\Users\\micha\\AppData\\Local\\Temp\\ipykernel_23088\\1292618385.py:3: SettingWithCopyWarning: \n",
      "A value is trying to be set on a copy of a slice from a DataFrame.\n",
      "Try using .loc[row_indexer,col_indexer] = value instead\n",
      "\n",
      "See the caveats in the documentation: https://pandas.pydata.org/pandas-docs/stable/user_guide/indexing.html#returning-a-view-versus-a-copy\n",
      "  df_no_dup['clean_category'] = df_no_dup['category'].apply(clean_category)\n"
     ]
    },
    {
     "data": {
      "text/html": [
       "<div>\n",
       "<style scoped>\n",
       "    .dataframe tbody tr th:only-of-type {\n",
       "        vertical-align: middle;\n",
       "    }\n",
       "\n",
       "    .dataframe tbody tr th {\n",
       "        vertical-align: top;\n",
       "    }\n",
       "\n",
       "    .dataframe thead th {\n",
       "        text-align: right;\n",
       "    }\n",
       "</style>\n",
       "<table border=\"1\" class=\"dataframe\">\n",
       "  <thead>\n",
       "    <tr style=\"text-align: right;\">\n",
       "      <th></th>\n",
       "      <th>book_title</th>\n",
       "      <th>book_author</th>\n",
       "      <th>publisher</th>\n",
       "      <th>category</th>\n",
       "      <th>clean_category</th>\n",
       "    </tr>\n",
       "  </thead>\n",
       "  <tbody>\n",
       "    <tr>\n",
       "      <th>0</th>\n",
       "      <td>Classical Mythology</td>\n",
       "      <td>Mark P. O. Morford</td>\n",
       "      <td>Oxford University Press</td>\n",
       "      <td>['Social Science']</td>\n",
       "      <td>Social Science</td>\n",
       "    </tr>\n",
       "    <tr>\n",
       "      <th>1</th>\n",
       "      <td>Clara Callan</td>\n",
       "      <td>Richard Bruce Wright</td>\n",
       "      <td>HarperFlamingo Canada</td>\n",
       "      <td>['Actresses']</td>\n",
       "      <td>Actresses</td>\n",
       "    </tr>\n",
       "    <tr>\n",
       "      <th>15</th>\n",
       "      <td>Decision in Normandy</td>\n",
       "      <td>Carlo D'Este</td>\n",
       "      <td>HarperPerennial</td>\n",
       "      <td>['1940-1949']</td>\n",
       "      <td>1940-1949</td>\n",
       "    </tr>\n",
       "    <tr>\n",
       "      <th>18</th>\n",
       "      <td>Flu: The Story of the Great Influenza Pandemic...</td>\n",
       "      <td>Gina Bari Kolata</td>\n",
       "      <td>Farrar Straus Giroux</td>\n",
       "      <td>['Medical']</td>\n",
       "      <td>Medical</td>\n",
       "    </tr>\n",
       "    <tr>\n",
       "      <th>29</th>\n",
       "      <td>The Mummies of Urumchi</td>\n",
       "      <td>E. J. W. Barber</td>\n",
       "      <td>W. W. Norton &amp; Company</td>\n",
       "      <td>['Design']</td>\n",
       "      <td>Design</td>\n",
       "    </tr>\n",
       "  </tbody>\n",
       "</table>\n",
       "</div>"
      ],
      "text/plain": [
       "                                           book_title           book_author  \\\n",
       "0                                 Classical Mythology    Mark P. O. Morford   \n",
       "1                                        Clara Callan  Richard Bruce Wright   \n",
       "15                               Decision in Normandy          Carlo D'Este   \n",
       "18  Flu: The Story of the Great Influenza Pandemic...      Gina Bari Kolata   \n",
       "29                             The Mummies of Urumchi       E. J. W. Barber   \n",
       "\n",
       "                  publisher            category  clean_category  \n",
       "0   Oxford University Press  ['Social Science']  Social Science  \n",
       "1     HarperFlamingo Canada       ['Actresses']       Actresses  \n",
       "15          HarperPerennial       ['1940-1949']       1940-1949  \n",
       "18     Farrar Straus Giroux         ['Medical']         Medical  \n",
       "29   W. W. Norton & Company          ['Design']          Design  "
      ]
     },
     "execution_count": 21,
     "metadata": {},
     "output_type": "execute_result"
    }
   ],
   "source": [
    "import re\n",
    "\n",
    "df_no_dup['clean_category'] = df_no_dup['category'].apply(clean_category)\n",
    "df_no_dup.head()"
   ]
  },
  {
   "cell_type": "markdown",
   "metadata": {
    "id": "KQQeBCpdCBLJ"
   },
   "source": [
    "Setelah membersihkan kolom kategori dari kolom kotak, selanjutnya kita harus menyamakan beberapa kategori menjadi sama contoh Voyages and travels. --> Voyages and travels"
   ]
  },
  {
   "cell_type": "code",
   "execution_count": 22,
   "metadata": {
    "colab": {
     "base_uri": "https://localhost:8080/",
     "height": 206
    },
    "id": "0Tj1nB_k_0Wz",
    "outputId": "5233b627-1404-4509-8081-58b9d73de295"
   },
   "outputs": [
    {
     "data": {
      "text/html": [
       "<div>\n",
       "<style scoped>\n",
       "    .dataframe tbody tr th:only-of-type {\n",
       "        vertical-align: middle;\n",
       "    }\n",
       "\n",
       "    .dataframe tbody tr th {\n",
       "        vertical-align: top;\n",
       "    }\n",
       "\n",
       "    .dataframe thead th {\n",
       "        text-align: right;\n",
       "    }\n",
       "</style>\n",
       "<table border=\"1\" class=\"dataframe\">\n",
       "  <thead>\n",
       "    <tr style=\"text-align: right;\">\n",
       "      <th></th>\n",
       "      <th>book_title</th>\n",
       "      <th>book_author</th>\n",
       "      <th>publisher</th>\n",
       "      <th>clean_category</th>\n",
       "    </tr>\n",
       "  </thead>\n",
       "  <tbody>\n",
       "    <tr>\n",
       "      <th>0</th>\n",
       "      <td>Classical Mythology</td>\n",
       "      <td>Mark P. O. Morford</td>\n",
       "      <td>Oxford University Press</td>\n",
       "      <td>Social Science</td>\n",
       "    </tr>\n",
       "    <tr>\n",
       "      <th>1</th>\n",
       "      <td>Clara Callan</td>\n",
       "      <td>Richard Bruce Wright</td>\n",
       "      <td>HarperFlamingo Canada</td>\n",
       "      <td>Actresses</td>\n",
       "    </tr>\n",
       "    <tr>\n",
       "      <th>15</th>\n",
       "      <td>Decision in Normandy</td>\n",
       "      <td>Carlo D'Este</td>\n",
       "      <td>HarperPerennial</td>\n",
       "      <td>1940-1949</td>\n",
       "    </tr>\n",
       "    <tr>\n",
       "      <th>18</th>\n",
       "      <td>Flu: The Story of the Great Influenza Pandemic...</td>\n",
       "      <td>Gina Bari Kolata</td>\n",
       "      <td>Farrar Straus Giroux</td>\n",
       "      <td>Medical</td>\n",
       "    </tr>\n",
       "    <tr>\n",
       "      <th>29</th>\n",
       "      <td>The Mummies of Urumchi</td>\n",
       "      <td>E. J. W. Barber</td>\n",
       "      <td>W. W. Norton &amp; Company</td>\n",
       "      <td>Design</td>\n",
       "    </tr>\n",
       "  </tbody>\n",
       "</table>\n",
       "</div>"
      ],
      "text/plain": [
       "                                           book_title           book_author  \\\n",
       "0                                 Classical Mythology    Mark P. O. Morford   \n",
       "1                                        Clara Callan  Richard Bruce Wright   \n",
       "15                               Decision in Normandy          Carlo D'Este   \n",
       "18  Flu: The Story of the Great Influenza Pandemic...      Gina Bari Kolata   \n",
       "29                             The Mummies of Urumchi       E. J. W. Barber   \n",
       "\n",
       "                  publisher  clean_category  \n",
       "0   Oxford University Press  Social Science  \n",
       "1     HarperFlamingo Canada       Actresses  \n",
       "15          HarperPerennial       1940-1949  \n",
       "18     Farrar Straus Giroux         Medical  \n",
       "29   W. W. Norton & Company          Design  "
      ]
     },
     "execution_count": 22,
     "metadata": {},
     "output_type": "execute_result"
    }
   ],
   "source": [
    "df_clean = df_no_dup.replace('Voyages and travels.', 'Voyages and travels')\n",
    "df_clean = df_clean.replace('Documentary photography.', 'Documentary photography')\n",
    "df_clean = df_clean.drop(['category'], axis=1)\n",
    "df_clean.head()"
   ]
  },
  {
   "cell_type": "code",
   "execution_count": 23,
   "metadata": {
    "colab": {
     "base_uri": "https://localhost:8080/",
     "height": 206
    },
    "id": "rxMSBOEDAjiw",
    "outputId": "7abe1a58-f42d-41ad-dfde-d5b01f0c1967",
    "scrolled": false
   },
   "outputs": [
    {
     "data": {
      "text/html": [
       "<div>\n",
       "<style scoped>\n",
       "    .dataframe tbody tr th:only-of-type {\n",
       "        vertical-align: middle;\n",
       "    }\n",
       "\n",
       "    .dataframe tbody tr th {\n",
       "        vertical-align: top;\n",
       "    }\n",
       "\n",
       "    .dataframe thead th {\n",
       "        text-align: right;\n",
       "    }\n",
       "</style>\n",
       "<table border=\"1\" class=\"dataframe\">\n",
       "  <thead>\n",
       "    <tr style=\"text-align: right;\">\n",
       "      <th></th>\n",
       "      <th>book_title</th>\n",
       "      <th>book_author</th>\n",
       "      <th>publisher</th>\n",
       "      <th>clean_category</th>\n",
       "    </tr>\n",
       "  </thead>\n",
       "  <tbody>\n",
       "    <tr>\n",
       "      <th>0</th>\n",
       "      <td>classical mythology</td>\n",
       "      <td>mark p. o. morford</td>\n",
       "      <td>oxford university press</td>\n",
       "      <td>social science</td>\n",
       "    </tr>\n",
       "    <tr>\n",
       "      <th>1</th>\n",
       "      <td>clara callan</td>\n",
       "      <td>richard bruce wright</td>\n",
       "      <td>harperflamingo canada</td>\n",
       "      <td>actresses</td>\n",
       "    </tr>\n",
       "    <tr>\n",
       "      <th>15</th>\n",
       "      <td>decision in normandy</td>\n",
       "      <td>carlo d'este</td>\n",
       "      <td>harperperennial</td>\n",
       "      <td>1940-1949</td>\n",
       "    </tr>\n",
       "    <tr>\n",
       "      <th>18</th>\n",
       "      <td>flu: the story of the great influenza pandemic...</td>\n",
       "      <td>gina bari kolata</td>\n",
       "      <td>farrar straus giroux</td>\n",
       "      <td>medical</td>\n",
       "    </tr>\n",
       "    <tr>\n",
       "      <th>29</th>\n",
       "      <td>the mummies of urumchi</td>\n",
       "      <td>e. j. w. barber</td>\n",
       "      <td>w. w. norton &amp; company</td>\n",
       "      <td>design</td>\n",
       "    </tr>\n",
       "  </tbody>\n",
       "</table>\n",
       "</div>"
      ],
      "text/plain": [
       "                                           book_title           book_author  \\\n",
       "0                                 classical mythology    mark p. o. morford   \n",
       "1                                        clara callan  richard bruce wright   \n",
       "15                               decision in normandy          carlo d'este   \n",
       "18  flu: the story of the great influenza pandemic...      gina bari kolata   \n",
       "29                             the mummies of urumchi       e. j. w. barber   \n",
       "\n",
       "                  publisher  clean_category  \n",
       "0   oxford university press  social science  \n",
       "1     harperflamingo canada       actresses  \n",
       "15          harperperennial       1940-1949  \n",
       "18     farrar straus giroux         medical  \n",
       "29   w. w. norton & company          design  "
      ]
     },
     "execution_count": 23,
     "metadata": {},
     "output_type": "execute_result"
    }
   ],
   "source": [
    "# lowercase all data\n",
    "index = df_clean.columns\n",
    "for i in index:\n",
    "  df_clean[i] = df_clean[i].apply(str.lower)\n",
    "df_clean.head()"
   ]
  },
  {
   "cell_type": "code",
   "execution_count": 24,
   "metadata": {},
   "outputs": [
    {
     "name": "stdout",
     "output_type": "stream",
     "text": [
      "The data has 241090 records and 4 columns.\n"
     ]
    }
   ],
   "source": [
    "# check the shape of dataframe\n",
    "print(f'The data has {df_clean.shape[0]} records and {df_clean.shape[1]} columns.')"
   ]
  },
  {
   "cell_type": "code",
   "execution_count": 25,
   "metadata": {},
   "outputs": [
    {
     "data": {
      "text/html": [
       "<div>\n",
       "<style scoped>\n",
       "    .dataframe tbody tr th:only-of-type {\n",
       "        vertical-align: middle;\n",
       "    }\n",
       "\n",
       "    .dataframe tbody tr th {\n",
       "        vertical-align: top;\n",
       "    }\n",
       "\n",
       "    .dataframe thead th {\n",
       "        text-align: right;\n",
       "    }\n",
       "</style>\n",
       "<table border=\"1\" class=\"dataframe\">\n",
       "  <thead>\n",
       "    <tr style=\"text-align: right;\">\n",
       "      <th></th>\n",
       "      <th>book_title</th>\n",
       "      <th>book_author</th>\n",
       "      <th>publisher</th>\n",
       "      <th>clean_category</th>\n",
       "    </tr>\n",
       "  </thead>\n",
       "  <tbody>\n",
       "    <tr>\n",
       "      <th>0</th>\n",
       "      <td>classical mythology</td>\n",
       "      <td>mark p. o. morford</td>\n",
       "      <td>oxford university press</td>\n",
       "      <td>social science</td>\n",
       "    </tr>\n",
       "    <tr>\n",
       "      <th>1</th>\n",
       "      <td>clara callan</td>\n",
       "      <td>richard bruce wright</td>\n",
       "      <td>harperflamingo canada</td>\n",
       "      <td>actresses</td>\n",
       "    </tr>\n",
       "    <tr>\n",
       "      <th>15</th>\n",
       "      <td>decision in normandy</td>\n",
       "      <td>carlo d'este</td>\n",
       "      <td>harperperennial</td>\n",
       "      <td>1940-1949</td>\n",
       "    </tr>\n",
       "    <tr>\n",
       "      <th>18</th>\n",
       "      <td>flu: the story of the great influenza pandemic...</td>\n",
       "      <td>gina bari kolata</td>\n",
       "      <td>farrar straus giroux</td>\n",
       "      <td>medical</td>\n",
       "    </tr>\n",
       "    <tr>\n",
       "      <th>29</th>\n",
       "      <td>the mummies of urumchi</td>\n",
       "      <td>e. j. w. barber</td>\n",
       "      <td>w. w. norton &amp; company</td>\n",
       "      <td>design</td>\n",
       "    </tr>\n",
       "  </tbody>\n",
       "</table>\n",
       "</div>"
      ],
      "text/plain": [
       "                                           book_title           book_author  \\\n",
       "0                                 classical mythology    mark p. o. morford   \n",
       "1                                        clara callan  richard bruce wright   \n",
       "15                               decision in normandy          carlo d'este   \n",
       "18  flu: the story of the great influenza pandemic...      gina bari kolata   \n",
       "29                             the mummies of urumchi       e. j. w. barber   \n",
       "\n",
       "                  publisher  clean_category  \n",
       "0   oxford university press  social science  \n",
       "1     harperflamingo canada       actresses  \n",
       "15          harperperennial       1940-1949  \n",
       "18     farrar straus giroux         medical  \n",
       "29   w. w. norton & company          design  "
      ]
     },
     "execution_count": 25,
     "metadata": {},
     "output_type": "execute_result"
    }
   ],
   "source": [
    "df_no_dup = df_clean.drop_duplicates(['clean_category'])\n",
    "df_no_dup.head()"
   ]
  },
  {
   "cell_type": "code",
   "execution_count": 26,
   "metadata": {},
   "outputs": [
    {
     "name": "stdout",
     "output_type": "stream",
     "text": [
      "The data has 6059 records and 4 columns.\n"
     ]
    }
   ],
   "source": [
    "# check the shape of dataframe\n",
    "print(f'The data has {df_no_dup.shape[0]} records and {df_no_dup.shape[1]} columns.')"
   ]
  },
  {
   "cell_type": "markdown",
   "metadata": {
    "id": "2JA91WtyCjBM"
   },
   "source": [
    "# Modeling\n",
    "---\n",
    "\n",
    "Untuk model kali ini kita akan menggunakan Content Based Filtering dimana tujuan model ini adalah mencari similarity antara buku"
   ]
  },
  {
   "cell_type": "code",
   "execution_count": 27,
   "metadata": {
    "id": "Agg8TjMNBMJK"
   },
   "outputs": [],
   "source": [
    "from sklearn.feature_extraction.text import TfidfVectorizer\n",
    "\n",
    "tf = TfidfVectorizer()\n",
    "tfidf_matrix = tf.fit_transform(df_no_dup['clean_category'])"
   ]
  },
  {
   "cell_type": "code",
   "execution_count": 28,
   "metadata": {
    "id": "Xp599L3WWohi"
   },
   "outputs": [
    {
     "data": {
      "text/html": [
       "<div>\n",
       "<style scoped>\n",
       "    .dataframe tbody tr th:only-of-type {\n",
       "        vertical-align: middle;\n",
       "    }\n",
       "\n",
       "    .dataframe tbody tr th {\n",
       "        vertical-align: top;\n",
       "    }\n",
       "\n",
       "    .dataframe thead th {\n",
       "        text-align: right;\n",
       "    }\n",
       "</style>\n",
       "<table border=\"1\" class=\"dataframe\">\n",
       "  <thead>\n",
       "    <tr style=\"text-align: right;\">\n",
       "      <th>book_title</th>\n",
       "      <th>on the edge (gold medal dreams , no 1)</th>\n",
       "      <th>the self-made snowman</th>\n",
       "      <th>li'l sis and uncle willie: a story based on the life and paintings of william h. johnson</th>\n",
       "      <th>everything you need to know about world history homework: a desk reference for students and parents/4th to 6th grades (scholastic homework reference series)</th>\n",
       "      <th>owner manual life</th>\n",
       "    </tr>\n",
       "    <tr>\n",
       "      <th>book_title</th>\n",
       "      <th></th>\n",
       "      <th></th>\n",
       "      <th></th>\n",
       "      <th></th>\n",
       "      <th></th>\n",
       "    </tr>\n",
       "  </thead>\n",
       "  <tbody>\n",
       "    <tr>\n",
       "      <th>elizabeth the spy (sweet valley twins, 96)</th>\n",
       "      <td>0.0</td>\n",
       "      <td>0.0</td>\n",
       "      <td>0.0</td>\n",
       "      <td>0.0</td>\n",
       "      <td>0.0</td>\n",
       "    </tr>\n",
       "    <tr>\n",
       "      <th>reason and religious belief: an introduction to the philosophy of religion</th>\n",
       "      <td>0.0</td>\n",
       "      <td>0.0</td>\n",
       "      <td>0.0</td>\n",
       "      <td>0.0</td>\n",
       "      <td>0.0</td>\n",
       "    </tr>\n",
       "    <tr>\n",
       "      <th>excel</th>\n",
       "      <td>0.0</td>\n",
       "      <td>0.0</td>\n",
       "      <td>0.0</td>\n",
       "      <td>0.0</td>\n",
       "      <td>0.0</td>\n",
       "    </tr>\n",
       "    <tr>\n",
       "      <th>a change of skies (picador fiction)</th>\n",
       "      <td>0.0</td>\n",
       "      <td>0.0</td>\n",
       "      <td>0.0</td>\n",
       "      <td>0.0</td>\n",
       "      <td>0.0</td>\n",
       "    </tr>\n",
       "    <tr>\n",
       "      <th>sloop of war</th>\n",
       "      <td>0.0</td>\n",
       "      <td>0.0</td>\n",
       "      <td>0.0</td>\n",
       "      <td>0.0</td>\n",
       "      <td>0.0</td>\n",
       "    </tr>\n",
       "    <tr>\n",
       "      <th>optionen und futures verstehen. grundlagen und neuere entwicklungen.</th>\n",
       "      <td>0.0</td>\n",
       "      <td>0.0</td>\n",
       "      <td>0.0</td>\n",
       "      <td>0.0</td>\n",
       "      <td>0.0</td>\n",
       "    </tr>\n",
       "    <tr>\n",
       "      <th>si vivre est tel: poã¨mes (collection contemporains)</th>\n",
       "      <td>0.0</td>\n",
       "      <td>0.0</td>\n",
       "      <td>0.0</td>\n",
       "      <td>0.0</td>\n",
       "      <td>0.0</td>\n",
       "    </tr>\n",
       "    <tr>\n",
       "      <th>universe within</th>\n",
       "      <td>0.0</td>\n",
       "      <td>0.0</td>\n",
       "      <td>0.0</td>\n",
       "      <td>0.0</td>\n",
       "      <td>0.0</td>\n",
       "    </tr>\n",
       "    <tr>\n",
       "      <th>halloween echo</th>\n",
       "      <td>0.0</td>\n",
       "      <td>0.0</td>\n",
       "      <td>0.0</td>\n",
       "      <td>0.0</td>\n",
       "      <td>0.0</td>\n",
       "    </tr>\n",
       "    <tr>\n",
       "      <th>sun dog</th>\n",
       "      <td>0.0</td>\n",
       "      <td>0.0</td>\n",
       "      <td>0.0</td>\n",
       "      <td>0.0</td>\n",
       "      <td>0.0</td>\n",
       "    </tr>\n",
       "  </tbody>\n",
       "</table>\n",
       "</div>"
      ],
      "text/plain": [
       "book_title                                          on the edge (gold medal dreams , no 1)  \\\n",
       "book_title                                                                                   \n",
       "elizabeth the spy (sweet valley twins, 96)                                             0.0   \n",
       "reason and religious belief: an introduction to...                                     0.0   \n",
       "excel                                                                                  0.0   \n",
       "a change of skies (picador fiction)                                                    0.0   \n",
       "sloop of war                                                                           0.0   \n",
       "optionen und futures verstehen. grundlagen und ...                                     0.0   \n",
       "si vivre est tel: poã¨mes (collection contempor...                                     0.0   \n",
       "universe within                                                                        0.0   \n",
       "halloween echo                                                                         0.0   \n",
       "sun dog                                                                                0.0   \n",
       "\n",
       "book_title                                          the self-made snowman  \\\n",
       "book_title                                                                  \n",
       "elizabeth the spy (sweet valley twins, 96)                            0.0   \n",
       "reason and religious belief: an introduction to...                    0.0   \n",
       "excel                                                                 0.0   \n",
       "a change of skies (picador fiction)                                   0.0   \n",
       "sloop of war                                                          0.0   \n",
       "optionen und futures verstehen. grundlagen und ...                    0.0   \n",
       "si vivre est tel: poã¨mes (collection contempor...                    0.0   \n",
       "universe within                                                       0.0   \n",
       "halloween echo                                                        0.0   \n",
       "sun dog                                                               0.0   \n",
       "\n",
       "book_title                                          li'l sis and uncle willie: a story based on the life and paintings of william h. johnson  \\\n",
       "book_title                                                                                                                                     \n",
       "elizabeth the spy (sweet valley twins, 96)                                                        0.0                                          \n",
       "reason and religious belief: an introduction to...                                                0.0                                          \n",
       "excel                                                                                             0.0                                          \n",
       "a change of skies (picador fiction)                                                               0.0                                          \n",
       "sloop of war                                                                                      0.0                                          \n",
       "optionen und futures verstehen. grundlagen und ...                                                0.0                                          \n",
       "si vivre est tel: poã¨mes (collection contempor...                                                0.0                                          \n",
       "universe within                                                                                   0.0                                          \n",
       "halloween echo                                                                                    0.0                                          \n",
       "sun dog                                                                                           0.0                                          \n",
       "\n",
       "book_title                                          everything you need to know about world history homework: a desk reference for students and parents/4th to 6th grades (scholastic homework reference series)  \\\n",
       "book_title                                                                                                                                                                                                         \n",
       "elizabeth the spy (sweet valley twins, 96)                                                        0.0                                                                                                              \n",
       "reason and religious belief: an introduction to...                                                0.0                                                                                                              \n",
       "excel                                                                                             0.0                                                                                                              \n",
       "a change of skies (picador fiction)                                                               0.0                                                                                                              \n",
       "sloop of war                                                                                      0.0                                                                                                              \n",
       "optionen und futures verstehen. grundlagen und ...                                                0.0                                                                                                              \n",
       "si vivre est tel: poã¨mes (collection contempor...                                                0.0                                                                                                              \n",
       "universe within                                                                                   0.0                                                                                                              \n",
       "halloween echo                                                                                    0.0                                                                                                              \n",
       "sun dog                                                                                           0.0                                                                                                              \n",
       "\n",
       "book_title                                          owner manual life  \n",
       "book_title                                                             \n",
       "elizabeth the spy (sweet valley twins, 96)                        0.0  \n",
       "reason and religious belief: an introduction to...                0.0  \n",
       "excel                                                             0.0  \n",
       "a change of skies (picador fiction)                               0.0  \n",
       "sloop of war                                                      0.0  \n",
       "optionen und futures verstehen. grundlagen und ...                0.0  \n",
       "si vivre est tel: poã¨mes (collection contempor...                0.0  \n",
       "universe within                                                   0.0  \n",
       "halloween echo                                                    0.0  \n",
       "sun dog                                                           0.0  "
      ]
     },
     "execution_count": 28,
     "metadata": {},
     "output_type": "execute_result"
    }
   ],
   "source": [
    "from sklearn.metrics.pairwise import cosine_similarity\n",
    " \n",
    "# Menghitung cosine similarity pada matrix tf-idf\n",
    "cosine_sim = cosine_similarity(tfidf_matrix)\n",
    "cosine_sim_df = pd.DataFrame(cosine_sim, index=df_no_dup['book_title'], columns=df_no_dup['book_title'])\n",
    "cosine_sim_df.sample(5, axis=1).sample(10, axis=0)"
   ]
  },
  {
   "cell_type": "code",
   "execution_count": null,
   "metadata": {},
   "outputs": [],
   "source": []
  }
 ],
 "metadata": {
  "colab": {
   "name": "Dicoding Book Recommender.ipynb",
   "provenance": []
  },
  "gpuClass": "standard",
  "kernelspec": {
   "display_name": "Python 3 (ipykernel)",
   "language": "python",
   "name": "python3"
  },
  "language_info": {
   "codemirror_mode": {
    "name": "ipython",
    "version": 3
   },
   "file_extension": ".py",
   "mimetype": "text/x-python",
   "name": "python",
   "nbconvert_exporter": "python",
   "pygments_lexer": "ipython3",
   "version": "3.8.5"
  }
 },
 "nbformat": 4,
 "nbformat_minor": 1
}
